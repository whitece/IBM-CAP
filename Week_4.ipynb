{
 "cells": [
  {
   "cell_type": "markdown",
   "metadata": {},
   "source": [
    "1. A beer run starts at a bar then proceeds to the next closest bar until all the bars in a particular neighborhood have been \n",
    "visited and the beer runners return to the first bar.  Using pandas and the FourSquare API, the bars to be visited are determined using loaction data (i.e. venue and geographic location) With these data, the travelling salesmen algorithm will then be applied to find the shortest route for the beer runners.\n",
    "\n",
    "2. Bars in a particular neighborhood will be identified from the FourSquare API using Neighborhood/Venue Category/Venue.  This data also includes lat/long geographic data for the identified bars.  WIth these data, a travelling salesmen algorithm will be used to find the shortest route between identified bars having the runner start and end at the same bar.  (The program could also be used as a means to reduce travel time/gas expenses for parcel delivery as an example.)  A map will be provided using the Folium visualization library."
   ]
  },
  {
   "cell_type": "code",
   "execution_count": null,
   "metadata": {},
   "outputs": [],
   "source": []
  }
 ],
 "metadata": {
  "kernelspec": {
   "display_name": "Python 3",
   "language": "python",
   "name": "python3"
  },
  "language_info": {
   "codemirror_mode": {
    "name": "ipython",
    "version": 3
   },
   "file_extension": ".py",
   "mimetype": "text/x-python",
   "name": "python",
   "nbconvert_exporter": "python",
   "pygments_lexer": "ipython3",
   "version": "3.7.0"
  }
 },
 "nbformat": 4,
 "nbformat_minor": 2
}
